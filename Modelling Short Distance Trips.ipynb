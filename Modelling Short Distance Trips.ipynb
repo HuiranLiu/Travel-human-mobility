{
 "cells": [
  {
   "cell_type": "code",
   "execution_count": 1,
   "metadata": {},
   "outputs": [],
   "source": [
    "import numpy as np\n",
    "import pandas as pd\n",
    "import matplotlib\n",
    "%matplotlib inline\n",
    "from matplotlib import pyplot as plt\n",
    "from scipy.stats import wasserstein_distance\n",
    "from statsmodels.distributions.empirical_distribution import ECDF\n",
    "import datetime\n",
    "import seaborn as sns\n",
    "from fitter import Fitter, get_common_distributions, get_distributions,histfit\n",
    "import fitter\n",
    "import math\n",
    "import random\n",
    "from numpy import exp\n",
    "import pyreadstat\n",
    "\n",
    "from scipy.optimize import curve_fit\n",
    "\n",
    "import json\n",
    "\n",
    "#Avoiding Type 3 fonts in matplotlib plots\n",
    "matplotlib.rcParams['pdf.fonttype'] = 42\n",
    "matplotlib.rcParams['ps.fonttype'] = 42\n",
    "matplotlib.rcParams['font.family'] = 'Arial'"
   ]
  },
  {
   "cell_type": "code",
   "execution_count": 2,
   "metadata": {},
   "outputs": [],
   "source": [
    "font = {'size'   : 15}\n",
    "\n",
    "matplotlib.rc('font', **font)\n",
    "matplotlib.rc('lines', linewidth=2.0)\n",
    "matplotlib.rc('lines', markersize=8)"
   ]
  },
  {
   "cell_type": "code",
   "execution_count": 3,
   "metadata": {},
   "outputs": [],
   "source": [
    "res='results/'"
   ]
  },
  {
   "cell_type": "markdown",
   "metadata": {},
   "source": [
    "# Datasets Reading"
   ]
  },
  {
   "cell_type": "markdown",
   "metadata": {},
   "source": [
    "### MiD Data 2017\n",
    "Mobilität in Deutschland\n",
    "\n",
    "The loading of this data set requires you to have acquired the MiD 2017 data, which is not public and must be requested via https://www.mobilitaet-in-deutschland.de/archive/index.html. Only execute these code blocks in case you acquired the data set."
   ]
  },
  {
   "cell_type": "code",
   "execution_count": 4,
   "metadata": {},
   "outputs": [
    {
     "name": "stdout",
     "output_type": "stream",
     "text": [
      "(960619, 6)\n"
     ]
    },
    {
     "data": {
      "text/html": [
       "<div>\n",
       "<style scoped>\n",
       "    .dataframe tbody tr th:only-of-type {\n",
       "        vertical-align: middle;\n",
       "    }\n",
       "\n",
       "    .dataframe tbody tr th {\n",
       "        vertical-align: top;\n",
       "    }\n",
       "\n",
       "    .dataframe thead th {\n",
       "        text-align: right;\n",
       "    }\n",
       "</style>\n",
       "<table border=\"1\" class=\"dataframe\">\n",
       "  <thead>\n",
       "    <tr style=\"text-align: right;\">\n",
       "      <th></th>\n",
       "      <th>ST_MONAT</th>\n",
       "      <th>ST_JAHR</th>\n",
       "      <th>W_ZWECK</th>\n",
       "      <th>wegkm</th>\n",
       "      <th>hvm</th>\n",
       "      <th>hvm_diff2</th>\n",
       "    </tr>\n",
       "  </thead>\n",
       "  <tbody>\n",
       "    <tr>\n",
       "      <th>0</th>\n",
       "      <td>3</td>\n",
       "      <td>2017</td>\n",
       "      <td>1</td>\n",
       "      <td>21.85</td>\n",
       "      <td>4</td>\n",
       "      <td>9</td>\n",
       "    </tr>\n",
       "    <tr>\n",
       "      <th>1</th>\n",
       "      <td>3</td>\n",
       "      <td>2017</td>\n",
       "      <td>5</td>\n",
       "      <td>0.39</td>\n",
       "      <td>1</td>\n",
       "      <td>1</td>\n",
       "    </tr>\n",
       "    <tr>\n",
       "      <th>2</th>\n",
       "      <td>3</td>\n",
       "      <td>2017</td>\n",
       "      <td>8</td>\n",
       "      <td>21.85</td>\n",
       "      <td>4</td>\n",
       "      <td>9</td>\n",
       "    </tr>\n",
       "  </tbody>\n",
       "</table>\n",
       "</div>"
      ],
      "text/plain": [
       "   ST_MONAT  ST_JAHR  W_ZWECK  wegkm  hvm  hvm_diff2\n",
       "0         3     2017        1  21.85    4          9\n",
       "1         3     2017        5   0.39    1          1\n",
       "2         3     2017        8  21.85    4          9"
      ]
     },
     "execution_count": 4,
     "metadata": {},
     "output_type": "execute_result"
    }
   ],
   "source": [
    "# data reading\n",
    "'''\n",
    "wegkm: wegelänge, path length\n",
    "hvm: hauptverkehrsmittel, main mode of transport\n",
    "hvm_diff2: hauptverkehrsmittel (stärker differenziert), more differentiated\n",
    "\n",
    "'''\n",
    "df_MiD=pd.read_csv('data/MiD2017_Wege.csv',decimal=',',sep=';',usecols=['wegkm','hvm','hvm_diff2','W_ZWECK','ST_JAHR','ST_MONAT'])\n",
    "print(df_MiD.shape)\n",
    "#exclude unwanted lines with \"unknown\" distance value et al\n",
    "df_MiD=df_MiD[df_MiD.wegkm.isin([9994,9999,70703]) == False]\n",
    "df_MiD.head(3)"
   ]
  },
  {
   "cell_type": "code",
   "execution_count": 5,
   "metadata": {},
   "outputs": [],
   "source": [
    "# Different transport modes extraction\n",
    "df_MiD_walk =df_MiD[df_MiD.hvm.isin([1]) == True] # Walk\n",
    "df_MiD_bike = df_MiD[df_MiD.hvm.isin([2]) == True] # Bicycle (incl. Ebike)\n",
    "df_MiD_obike=df_MiD_bike[df_MiD_bike.hvm_diff2.isin([2])==True] #only Bike\n",
    "df_MiD_autopass = df_MiD[df_MiD.hvm.isin([3]) == True] # Auto Passengers\n",
    "df_MiD_autodriver = df_MiD[df_MiD.hvm.isin([4]) == True] # Auto Drivers\n",
    "\n",
    "df_MiD_public=df_MiD[df_MiD.hvm.isin([5]) == True] #public\n",
    "# Public Transport w/o long distance vehicles,short range\n",
    "df_MiD_SRpublic=df_MiD_public[df_MiD_public.hvm_diff2.isin([19,20,21,22,23])==False] \n",
    "# long range\n",
    "df_MiD_LRpublic=df_MiD_public[df_MiD_public.hvm_diff2.isin([20,21,22,23])==True] "
   ]
  },
  {
   "cell_type": "markdown",
   "metadata": {},
   "source": [
    "### NHTS17 Data\n",
    "Travel behavior of the American public\n",
    "\n",
    "The data is public and can be acquired via https://nhts.ornl.gov/downloads The relevant file is trippub.csv."
   ]
  },
  {
   "cell_type": "code",
   "execution_count": 6,
   "metadata": {},
   "outputs": [
    {
     "name": "stdout",
     "output_type": "stream",
     "text": [
      "(923572, 3)\n"
     ]
    },
    {
     "data": {
      "text/html": [
       "<div>\n",
       "<style scoped>\n",
       "    .dataframe tbody tr th:only-of-type {\n",
       "        vertical-align: middle;\n",
       "    }\n",
       "\n",
       "    .dataframe tbody tr th {\n",
       "        vertical-align: top;\n",
       "    }\n",
       "\n",
       "    .dataframe thead th {\n",
       "        text-align: right;\n",
       "    }\n",
       "</style>\n",
       "<table border=\"1\" class=\"dataframe\">\n",
       "  <thead>\n",
       "    <tr style=\"text-align: right;\">\n",
       "      <th></th>\n",
       "      <th>TRPMILES</th>\n",
       "      <th>TRPTRANS</th>\n",
       "      <th>WHYTRP1S</th>\n",
       "    </tr>\n",
       "  </thead>\n",
       "  <tbody>\n",
       "    <tr>\n",
       "      <th>0</th>\n",
       "      <td>5.244</td>\n",
       "      <td>3</td>\n",
       "      <td>20</td>\n",
       "    </tr>\n",
       "    <tr>\n",
       "      <th>1</th>\n",
       "      <td>5.149</td>\n",
       "      <td>3</td>\n",
       "      <td>1</td>\n",
       "    </tr>\n",
       "    <tr>\n",
       "      <th>2</th>\n",
       "      <td>84.004</td>\n",
       "      <td>6</td>\n",
       "      <td>1</td>\n",
       "    </tr>\n",
       "  </tbody>\n",
       "</table>\n",
       "</div>"
      ],
      "text/plain": [
       "   TRPMILES  TRPTRANS  WHYTRP1S\n",
       "0     5.244         3        20\n",
       "1     5.149         3         1\n",
       "2    84.004         6         1"
      ]
     },
     "execution_count": 6,
     "metadata": {},
     "output_type": "execute_result"
    }
   ],
   "source": [
    "# data reading\n",
    "# TRPMILES: Trip distance in miles, derived from route geometry returned\n",
    "# TRPTRANS: Trip Mode, derived \n",
    "# WHYTRP1S: Trip purpose summary\n",
    "df_Nhts=pd.read_csv('data/trippub_2017NHTS.csv',decimal='.',sep=',',usecols=[\"TRPMILES\", \"TRPTRANS\",\"WHYTRP1S\"])\n",
    "print(df_Nhts.shape)\n",
    "df_Nhts.head(3)"
   ]
  },
  {
   "cell_type": "code",
   "execution_count": 7,
   "metadata": {},
   "outputs": [],
   "source": [
    "# Different transport modes extraction and unit conversion to Km\n",
    "\n",
    "df_Nhts_walk =df_Nhts['TRPMILES'][df_Nhts.TRPTRANS.isin([1]) == True]*1.60934 # Walk and transform to km\n",
    "df_Nhts_bike = df_Nhts['TRPMILES'][df_Nhts.TRPTRANS.isin([2]) == True]*1.60934 # Bicycle and transform to km\n",
    "#3auto 4suv 5van 6 pick up truck 18rentalcar\n",
    "df_Nhts_auto=df_Nhts['TRPMILES'][df_Nhts.TRPTRANS.isin([3,4,5,6,18])==True]*1.60934   #Auto\n",
    "# Public Transport short distance\n",
    "#10school bus, 11public bus, 12paratransit / dial-a-ride, 13private/charter/tour/shutnhtse bus, 15amtrack / commuter rail, 16subway, 17taxi /limo (incl uber)\n",
    "df_Nhts_SRpublic=df_Nhts['TRPMILES'][df_Nhts.TRPTRANS.isin([10,11,12,13,16,17])==True]*1.60934  \n",
    "# long distance public transport\n",
    "#14City-to-city bus (Greyhound, Megabus), 19Airplane, 20Boat/ferry/water taxi\n",
    "df_Nhts_LRpublic=df_Nhts['TRPMILES'][df_Nhts.TRPTRANS.isin([14,19,20])==True]*1.60934  "
   ]
  },
  {
   "cell_type": "markdown",
   "metadata": {},
   "source": [
    "# Power-law properties in short-distance transport\n",
    "\n",
    "In this section, we fit the CCDF of a power-law trend $F(x) = C \\cdot x^{-(\\alpha-1)}$ to the CCDF of our emperical data. \n",
    "\n",
    "We only fit this trend towards a certain range of the data, which showed a linear trend in a  log-log plot"
   ]
  },
  {
   "cell_type": "code",
   "execution_count": 8,
   "metadata": {},
   "outputs": [],
   "source": [
    "'''\n",
    "given the value of point x and whole data, calculate the point of y value in CCDF\n",
    "'''\n",
    "def cal_y_ccdf(data,x):\n",
    "    \n",
    "    sorted_data = np.sort(data)\n",
    "    linspaced = np.linspace(0, 1, len(data), endpoint=False)\n",
    "    y=1-linspaced\n",
    "    \n",
    "    return np.interp(x, sorted_data,y)"
   ]
  },
  {
   "cell_type": "markdown",
   "metadata": {},
   "source": [
    "To find values of $C$ and $\\alpha$ that fit the trend $F(x) = C/x^{\\alpha-1}$ observed between $X1$ (the first selected point) and $X2$ (the second selected point), we analytically solve for values such that $F(X1) = Y1$ and $F(X2) = Y2$.\n",
    "\n",
    "The values of $Y1$ and $Y2$ describe the values of the emperical CCDF at points $X1$ and $X2$, respectively."
   ]
  },
  {
   "cell_type": "code",
   "execution_count": 9,
   "metadata": {},
   "outputs": [],
   "source": [
    "# Get C and alpha\n",
    "def getC_alp(df_vec,X1,X2):\n",
    "    \n",
    "    # X1=t_err_min_distance\n",
    "    # X2=t_err_max_distance\n",
    "    Y1=cal_y_ccdf(df_vec,X1)\n",
    "    Y2=cal_y_ccdf(df_vec,X2)\n",
    "    \n",
    "    alp=(math.log(Y1)-math.log(Y2))/(math.log(X2)-math.log(X1))+1\n",
    "    C=Y1*(X1**(alp-1))\n",
    "    return alp,C,Y1,Y2"
   ]
  },
  {
   "cell_type": "code",
   "execution_count": 10,
   "metadata": {},
   "outputs": [
    {
     "name": "stdout",
     "output_type": "stream",
     "text": [
      "MiD Walking--Alpha,C,Y1,Y2: 3.3770469505514424 5.831169620387757 0.46410251699805477 0.001797086991480265 69987\n",
      "MiD Bicycling--Alpha,C,Y1,Y2: 2.609495430151597 3.5731314676218218 0.3996991380712311 0.009822856092865078 67639\n",
      "NHTS short public--Alpha,C,Y1,Y2: 2.592486036855698 54.885842389955904 0.46514486675815236 0.0027630471014490616 9130\n"
     ]
    }
   ],
   "source": [
    "''' Calculate C and alpha within the observation ranges of different sub-datasets\n",
    "\n",
    "- Walking in MiD 2017\n",
    "- MiD Bike 2017\n",
    "- NHTS Short-Distance Public Transport 2017\n",
    "\n",
    "'''\n",
    "# Walking in MiD 2017\n",
    "MiDwalk_data=df_MiD_walk['wegkm'].copy() \n",
    "# select the data trips between two points to have a nicer observation\n",
    "# min_distance=1\n",
    "# max_distance=100\n",
    "MiDwalk_data=MiDwalk_data[MiDwalk_data.between(1,100)]\n",
    "MiDwalk_X1=2.9 #selected point1\n",
    "MiDwalk_X2=30 #selected point2\n",
    "MiDwalk_alp,MiDwalk_C,MiDwalk_Y1,MiDwalk_Y2=getC_alp(MiDwalk_data,MiDwalk_X1,MiDwalk_X2)\n",
    "print('MiD Walking--Alpha,C,Y1,Y2:',MiDwalk_alp,MiDwalk_C,MiDwalk_Y1,MiDwalk_Y2,len(MiDwalk_data))\n",
    "\n",
    "# Bicycling in MiD 2017 \n",
    "MiDbike_data=df_MiD_obike['wegkm'].copy() \n",
    "MiDbike_data=MiDbike_data[MiDbike_data.between(1,100)]\n",
    "MiDbike_X1=3.9\n",
    "MiDbike_X2=39\n",
    "# MiDbike_X2=50\n",
    "MiDbike_alp,MiDbike_C,MiDbike_Y1,MiDbike_Y2=getC_alp(MiDbike_data,MiDbike_X1,MiDbike_X2)\n",
    "print('MiD Bicycling--Alpha,C,Y1,Y2:',MiDbike_alp,MiDbike_C,MiDbike_Y1,MiDbike_Y2,len(MiDbike_data))\n",
    "\n",
    "# # NHTS Short-Distance Public Transport\n",
    "NHTSsrpublic_data=df_Nhts_SRpublic.copy() #Short range public in Nhts17 \n",
    "NHTSsrpublic_data=NHTSsrpublic_data[NHTSsrpublic_data.between(10,1000)]\n",
    "NHTSsrpublic_X1=20\n",
    "NHTSsrpublic_X2=500\n",
    "NHTSsrpublic_alp,NHTSsrpublic_C,NHTSsrpublic_Y1,NHTSsrpublic_Y2=getC_alp(NHTSsrpublic_data,NHTSsrpublic_X1,NHTSsrpublic_X2)\n",
    "print('NHTS short public--Alpha,C,Y1,Y2:',NHTSsrpublic_alp,NHTSsrpublic_C,NHTSsrpublic_Y1,NHTSsrpublic_Y2,len(NHTSsrpublic_data))"
   ]
  },
  {
   "cell_type": "code",
   "execution_count": 15,
   "metadata": {},
   "outputs": [],
   "source": [
    "''' Plot the CCDF\n",
    "\n",
    "datalist: the datasets used to plot the ccdf, each contains the corresponding data, X1,X2,C,alpha\n",
    "titles: the name for each dataset\n",
    "\n",
    "'''\n",
    "def ccdf_plot_all(datalist,titles):\n",
    "    n=len(datalist)\n",
    "    fig, axes = plt.subplots(1, n, sharey=True,figsize=(3.54*3,2.83*1.7))\n",
    "    for i, (data, X1, X2, C, alp) in enumerate(datalist):\n",
    "        ax=axes[i]\n",
    "        sorted_data = np.sort(data)\n",
    "        linspaced = np.linspace(0, 1, len(data), endpoint=False)\n",
    "        ax.plot(sorted_data, 1-linspaced,label='Empirical data',rasterized=False,markersize=5,alpha=0.8,linewidth=5)\n",
    "    \n",
    "        # Number of samples to generate\n",
    "        num_samples=20\n",
    "        # 100 linearly spaced numbers\n",
    "        s = np.linspace(X1,X2,num_samples)\n",
    "        # the function\n",
    "        t = C/(s**alp)\n",
    "         # plot the function\n",
    "        ax.plot(s,t, 'r',linewidth=6,label='Power-law')\n",
    "    \n",
    "        ax.set_yscale(\"log\")\n",
    "        ax.set_xscale(\"log\")\n",
    "        # ax.grid()\n",
    "        ax.text(0.04, 0.04,titles[i],transform=ax.transAxes,\n",
    "                fontsize=15,\n",
    "                va='bottom', ha='left',\n",
    "               bbox=dict(facecolor='white', alpha=0.7, edgecolor='black', boxstyle='round,pad=0.3'))\n",
    "        if i == 0:\n",
    "            handles, labels = ax.get_legend_handles_labels()\n",
    "\n",
    "    fig.supxlabel('Trip Length (km)')\n",
    "    fig.supylabel('CCDF')\n",
    "    fig.legend(handles, labels, loc='lower center', bbox_to_anchor=(0.5, 0.05),\n",
    "               ncol=2, fontsize=15, frameon=True, fancybox=True)\n",
    "    # fig.legend(handles, labels, loc='center left',\n",
    "    #        bbox_to_anchor=(0.6, 0.04),\n",
    "    #        ncol=len(labels), fontsize=15, frameon=True, fancybox=True)\n",
    "\n",
    "    plt.tight_layout()\n",
    "    plt.savefig(res+'Short Distance.pdf', dpi=100, bbox_inches='tight')\n"
   ]
  },
  {
   "cell_type": "code",
   "execution_count": 16,
   "metadata": {},
   "outputs": [
    {
     "data": {
      "image/png": "[encoded data removed]",
      "text/plain": [
       "<Figure size 1062x481.1 with 3 Axes>"
      ]
     },
     "metadata": {},
     "output_type": "display_data"
    }
   ],
   "source": [
    "datalist=[(MiDwalk_data,MiDwalk_X1,MiDwalk_X2,MiDwalk_C,MiDwalk_alp),\n",
    "         (MiDbike_data,MiDbike_X1,MiDbike_X2,MiDbike_C,MiDbike_alp),\n",
    "         # (NHTSbike_data,NHTSbike_X1,NHTSbike_X2,NHTSbike_C,NHTSbike_alp),\n",
    "         (NHTSsrpublic_data,NHTSsrpublic_X1,NHTSsrpublic_X2,NHTSsrpublic_C,NHTSsrpublic_alp)]\n",
    "titles=['MiD Walking','MiD Bicycling','NHTS Short-Distance\\nPublic Transport']\n",
    "ccdf_plot_all(datalist,titles)"
   ]
  },
  {
   "cell_type": "code",
   "execution_count": null,
   "metadata": {},
   "outputs": [],
   "source": []
  }
 ],
 "metadata": {
  "kernelspec": {
   "display_name": "Python 3 (ipykernel)",
   "language": "python",
   "name": "python3"
  },
  "language_info": {
   "codemirror_mode": {
    "name": "ipython",
    "version": 3
   },
   "file_extension": ".py",
   "mimetype": "text/x-python",
   "name": "python",
   "nbconvert_exporter": "python",
   "pygments_lexer": "ipython3",
   "version": "3.11.3"
  }
 },
 "nbformat": 4,
 "nbformat_minor": 4
}

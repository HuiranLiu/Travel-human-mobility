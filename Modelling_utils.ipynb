{
 "cells": [
  {
   "cell_type": "code",
   "execution_count": 1,
   "metadata": {
    "executionInfo": {
     "elapsed": 1596,
     "status": "ok",
     "timestamp": 1732013518977,
     "user": {
      "displayName": "Huiran",
      "userId": "09921545535813529831"
     },
     "user_tz": -60
    },
    "id": "Z0REXkZBiUZc"
   },
   "outputs": [],
   "source": [
    "import numpy as np\n",
    "import pandas as pd\n",
    "import matplotlib\n",
    "%matplotlib inline\n",
    "from matplotlib import pyplot as plt\n",
    "from scipy.interpolate import interp1d\n",
    "import datetime\n",
    "import random\n",
    "from scipy import stats\n",
    "import math\n",
    "\n",
    "#Avoiding Type 3 fonts in matplotlib plots\n",
    "matplotlib.rcParams['pdf.fonttype'] = 42\n",
    "matplotlib.rcParams['ps.fonttype'] = 42\n",
    "matplotlib.rcParams['font.family'] = 'Arial'\n",
    "pd.options.display.max_rows = 4000"
   ]
  },
  {
   "cell_type": "code",
   "execution_count": 2,
   "metadata": {
    "executionInfo": {
     "elapsed": 274,
     "status": "ok",
     "timestamp": 1732013566368,
     "user": {
      "displayName": "Huiran",
      "userId": "09921545535813529831"
     },
     "user_tz": -60
    },
    "id": "aGsi-6rPiUZe"
   },
   "outputs": [],
   "source": [
    "font = {'size'   : 15}\n",
    "\n",
    "matplotlib.rc('font', **font)\n",
    "matplotlib.rc('lines', linewidth=2.0)\n",
    "matplotlib.rc('lines', markersize=8)"
   ]
  },
  {
   "cell_type": "markdown",
   "metadata": {
    "id": "fVjMoQ_CiUZg"
   },
   "source": [
    "# Modelling long - distance public trips\n",
    "In this section we present the tools we used to derive the best-fitting amplified power-law process as well as the best-fitting truncated power-law for given emperical data-set\n"
   ]
  },
  {
   "cell_type": "markdown",
   "metadata": {
    "id": "KTH0EWVhiUZh"
   },
   "source": [
    "## Error function - sMAPE calculation\n",
    "\n",
    "In order to determine whether a given CCDF $f$ describes the CCDF $g$ of our emperical data well, we use the symmetric mean absolute percentage error (sMAPE). That is, for a series of uniformly distributed sample points $S$, the function calculates the error as $\\frac{2}{|S|}\\sum_{x_i \\in S} \\dfrac{|f(x_i)-g(x_i)|}{ f(x_i)+g(x_i)}$.\n"
   ]
  },
  {
   "cell_type": "code",
   "execution_count": 3,
   "metadata": {
    "executionInfo": {
     "elapsed": 301,
     "status": "ok",
     "timestamp": 1732013570286,
     "user": {
      "displayName": "Huiran",
      "userId": "09921545535813529831"
     },
     "user_tz": -60
    },
    "id": "p0LONcYIiUZi"
   },
   "outputs": [],
   "source": [
    "''' Error function\n",
    "Compute the distance(error) between the CCDFs of two given data sets\n",
    "\n",
    "d1,d2: the two input data sets, given as a 1-D list of samples.\n",
    "Out of each input, a CCDF is generated. The CCDFs are then compared according to above error metric.\n",
    "\n",
    "max_d: the empirical trip length at which the CCDF reaches 10^{-3} on a log-log scale plot; this value defines the maximum range used for error calculation\n",
    "num: the number of sampling points used in the error calculation\n",
    "\n",
    "return: error value\n",
    "'''\n",
    "\n",
    "def cal_sMAPE(d1,d2,max_d,num):\n",
    "    # Check input types\n",
    "    if not (isinstance(d1, (np.ndarray, list, pd.Series)) and isinstance(d2, (np.ndarray, list, pd.Series))):\n",
    "        raise ValueError('Wrong: Data type is not ndarray, List, or pd.Series')\n",
    "\n",
    "    # Convert lists or pd.Series to numpy arrays for efficient computation\n",
    "    d1 = np.array(d1)\n",
    "    d2 = np.array(d2)\n",
    "\n",
    "    # re-sampling\n",
    "    # given the point x value and whole data, calculate the point of y value in CCDF\n",
    "    sorted_d1 = np.sort(d1)\n",
    "    y_d1=1- np.linspace(0, 1, len(sorted_d1), endpoint=False)\n",
    "\n",
    "    sorted_d2 = np.sort(d2)\n",
    "    y_d2=1- np.linspace(0, 1, len(sorted_d2), endpoint=False)\n",
    "    \n",
    "    # Create interpolation functions for the CCDFs\n",
    "    interp_d1 = interp1d(sorted_d1, y_d1, bounds_error=False,fill_value=0)\n",
    "    interp_d2 = interp1d(sorted_d2, y_d2, bounds_error=False,fill_value=0)\n",
    "\n",
    "    \n",
    "    # Find the overlapping range of the two distributions\n",
    "    min_d = max(np.min(d1), np.min(d2))\n",
    "    \n",
    "    # Linearly spaced points for interpolation\n",
    "    points = np.linspace(min_d, max_d, num)\n",
    "\n",
    "    # Interpolate both distributions at the same points\n",
    "    interp_y_d1 = interp_d1(points)\n",
    "    interp_y_d2 = interp_d2(points)\n",
    "    \n",
    "\n",
    "    # Calculate the relative error in a vectorized way\n",
    "    denom = (interp_y_d1 + interp_y_d2) / 2\n",
    "    sum_error = np.abs(interp_y_d1 - interp_y_d2) / denom \n",
    "    error = np.nanmean(sum_error)\n",
    "    \n",
    "    return error\n"
   ]
  },
  {
   "cell_type": "markdown",
   "metadata": {},
   "source": [
    "### Adapted sMAPE calculation for the exponentially truncated power-law\n",
    "\n",
    "In our project, the exponentially truncated power-law does not provide an exact simulated trip length distribution but only a series of data points representing its CCDF, we slightly modify the sMAPE error function to better accommodate error calculation between the empirical data and the CCDF of the exponentially truncated power-law, unlike the error function used in the previous section."
   ]
  },
  {
   "cell_type": "code",
   "execution_count": 4,
   "metadata": {},
   "outputs": [],
   "source": [
    "''' Error function-----used to fit the power-law with the exponential truncation\n",
    "Compute the distance between the CCDFs of the model and the empirical data.\n",
    "\n",
    "d1: kind of CCDF values from the exponentially truncated power-law\n",
    "d2: the regular 1-D samples as it in empirical data\n",
    "Ds: the distribution of points for getting d1\n",
    "max_d: the empirical trip length at which the CCDF reaches 10^{-3} on a log-log scale plot; this value defines the maximum range used for error calculation\n",
    "num: the number of sampling points used in the error calculation\n",
    "\n",
    "return: sMAPE error value\n",
    "'''\n",
    "\n",
    "def cal_sMAPE_exp(d1,d2,Ds,max_d,num):\n",
    "    # Check input types\n",
    "    if not (isinstance(d1, (np.ndarray, list, pd.Series)) and isinstance(d2, (np.ndarray, list, pd.Series))):\n",
    "        raise ValueError('Wrong: Data type is not ndarray, List, or pd.Series')\n",
    "\n",
    "    # Convert lists or pd.Series to numpy arrays for efficient computation\n",
    "    d1 = np.array(d1)\n",
    "    d2 = np.array(d2)\n",
    "\n",
    "    sorted_d2 = np.sort(d2)\n",
    "    y_d2=1- np.linspace(0, 1, len(sorted_d2), endpoint=False)\n",
    "\n",
    "    # Create interpolation functions for the CCDFs,extended left=1, right=0\n",
    "    interp_d1 = interp1d(Ds, d1, bounds_error=False,fill_value=(1,0)) # Ds is already sorted\n",
    "    interp_d2 = interp1d(sorted_d2, y_d2, bounds_error=False,fill_value=(1,0))\n",
    "\n",
    "    # Find the overlapping range of the two distributions\n",
    "    min_d = max(np.min(Ds), np.min(d2))\n",
    "    \n",
    "    # Sampling method : Linear: # Linearly spaced points for interpolation\n",
    "    points = np.linspace(min_d, max_d, num)\n",
    "\n",
    "    # Interpolate both distributions at the same point\n",
    "    interp_y_d1 = interp_d1(points)\n",
    "    interp_y_d2 = interp_d2(points)\n",
    "\n",
    "\n",
    "    # Calculate the relative error in a vectorized way\n",
    "    denom = (interp_y_d1 + interp_y_d2) / 2\n",
    "    sum_error = np.abs(interp_y_d1 - interp_y_d2) / denom \n",
    "    error = np.nanmean(sum_error)\n",
    "        \n",
    "\n",
    "    return error\n"
   ]
  },
  {
   "cell_type": "markdown",
   "metadata": {},
   "source": [
    "## Get the maximum trip length for sMAPE calculation\n",
    "\n",
    "Computes the last sample (largest trip length) to be considered in the sMAPE calculation. It corresponds to the trip length at which only  $10^{-3}$ propbabiliy mass remains in the CCDF."
   ]
  },
  {
   "cell_type": "code",
   "execution_count": 5,
   "metadata": {},
   "outputs": [],
   "source": [
    "''' Calculate the trip length value (max_d in the error calculation function) when the CCDF reaches 10^(-3) in a log-log scale CCDF plot, \n",
    "    which will be used to determine the maximum range of the samples used in the error calculation\n",
    "\n",
    "\n",
    "d1: a 1-D dataset, like emipircal data in our project \n",
    "y_value: the exact value in y axis in a log-log scale CCDF plot\n",
    "\n",
    "return: the value (as possible) of corresponding x value ----> max_d\n",
    "'''\n",
    "def get_xCCDF(d1, y_value=1e-3):\n",
    "    # cal ccdf\n",
    "    d1 = np.array(d1)\n",
    "    sorted_d1 = np.sort(d1)\n",
    "    y_d1 = 1 - np.linspace(0, 1, len(sorted_d1), endpoint=False)\n",
    "    \n",
    "    # target（log-log scale, 10^-3）\n",
    "    target_y = y_value\n",
    "    \n",
    "    # Find the first position where y_d1 <= target_y (y_d1 is monotonically decreasing)\n",
    "    idx = np.searchsorted(y_d1[::-1], target_y, side='left') # searchsorted need monotonically increasing, so inverse the y_d1\n",
    "    idx = len(y_d1) - idx  # inverse index\n",
    "    \n",
    "    # Extract neighbouring points (make sure y1 > target_y > y2)\n",
    "    x1, x2 = sorted_d1[idx-1], sorted_d1[idx]\n",
    "    y1, y2 = y_d1[idx-1], y_d1[idx]\n",
    "    \n",
    "    # Linear interpolation in log-log space\n",
    "    log_x = np.log10(x1) + (np.log10(target_y) - np.log10(y1)) / (np.log10(y2) - np.log10(y1)) * (np.log10(x2) - np.log10(x1))\n",
    "    x_target = 10 ** log_x\n",
    "    \n",
    "    return x_target\n"
   ]
  },
  {
   "cell_type": "markdown",
   "metadata": {
    "id": "tAXUTbkHiUZj"
   },
   "source": [
    "## Fitting the amplified and truncated power-law models\n",
    "Here we derive the parameters of the amplified power-law process that best describes the empirical data-set.\n",
    "The values of the best-fitting process are then stored for later use."
   ]
  },
  {
   "cell_type": "markdown",
   "metadata": {
    "id": "A2QzuZw7iUZk"
   },
   "source": [
    "### Distance-amplified power-law\n",
    "\n",
    "This functions derives the best-fitting parameters for a distance amplified power-law via a grid search. This function can also be used to find the optimal parameters for the dynamically truncated power-law (by only considering combinations of parameters where $p=0$)."
   ]
  },
  {
   "cell_type": "code",
   "execution_count": 6,
   "metadata": {
    "colab": {
     "base_uri": "https://localhost:8080/"
    },
    "executionInfo": {
     "elapsed": 231,
     "status": "ok",
     "timestamp": 1732013575672,
     "user": {
      "displayName": "Huiran",
      "userId": "09921545535813529831"
     },
     "user_tz": -60
    },
    "id": "MSyBQdgUiUZn",
    "outputId": "3f92de15-1258-4a13-a1a1-42b6c243bd4f"
   },
   "outputs": [],
   "source": [
    "'''\n",
    "Find the best-fitting parameter values for a distance-amplified power-law process\n",
    "that follows the rules specified in the two previous blocks.\n",
    "\n",
    "Input:\n",
    "    combinable: an array of all parameter combinations to consider, error is null at the begining\n",
    "    sampleSize: number of samples for finding the optimal parameters\n",
    "    min_distance,max_distance: range of trip length to be considered\n",
    "    maxdistance: used for dynamic method, usually equals to max_distance\n",
    "    max_d: the empirical trip length at which the CCDF reaches 10^{-3} on a log-log scale plot; this value defines the maximum range used for error calculation\n",
    "    num: the number of sampling points used in the error calculation\n",
    "Return:\n",
    "    full-filled combinale error\n",
    "'''\n",
    "\n",
    "def find_opt_params(combinable,sampleSize,min_distance,maxdistance,df_vec,max_d,num):\n",
    "    tmp_max=maxdistance/2 # half of the maximum allowed distance for any trip\n",
    "    n_samples = len(combinable)\n",
    "\n",
    "    for i in range(n_samples):\n",
    "        \n",
    "        eps, p, alp, error, all_dist = combinable[i]  #note that (1+eps) is equal to amplification parameter C described in the paper\n",
    "        dist = []\n",
    "       \n",
    "        # simulate each trip\n",
    "        for n in range(sampleSize):\n",
    "            distance=9999999\n",
    "            # first determine the maximum distance the trip can have\n",
    "            # we assume that the country (U.S and Germany) can be described by a circular shape of radius tmp_max\n",
    "            \n",
    "            # the trip is assigned a starting location inside the circle (selected uniformly at random)\n",
    "            # the max_distance this trips is allowed to have is then the largest distance between the trips origin\n",
    "            # and the edge of the circle.\n",
    "    \n",
    "            # instead of simulating this process for each trip, we consider the resulting distribution of these max_distance\n",
    "            # values and sample from it as follows\n",
    "            tmp=np.random.uniform(0,1)\n",
    "            max_distance=np.sqrt(1-tmp)*tmp_max+tmp_max\n",
    "            while(distance>=max_distance or distance<min_distance):\n",
    "\n",
    "                # draw distance from the power-law distribution with parameter alp\n",
    "                # amplification part\n",
    "                #start with drawn power-law distance\n",
    "                distance=np.random.uniform(0,1)**(-1/(alp-1))\n",
    "                #compute how many times an amplifications occurs\n",
    "                number=np.random.geometric(1-p)\n",
    "                #amplify by factor (1+eps) each time\n",
    "                distance=((1+eps)**(number-1))*distance\n",
    "\n",
    "            dist.append(distance)\n",
    "\n",
    "        combinable[i][4]=dist\n",
    "        # error computation\n",
    "        error=cal_sMAPE(dist,df_vec,max_d,num)\n",
    "        combinable[i][3]=error\n",
    "\n",
    "    \n",
    "    return combinable"
   ]
  },
  {
   "cell_type": "markdown",
   "metadata": {},
   "source": [
    "### Power-law with exponential truncation\n",
    "\n",
    "The truncated exponential powerlaw given by parameters $\\alpha$ and $\\gamma$ is given by the density function $f(x) = C \\cdot x^{-\\alpha} \\cdot e^{-x/\\gamma}$. The constant $C > 0$ is used for normalization.\n",
    "\n",
    "As we consider only data starting from a minimum distance, e.g., $100$ kilometers, we choose $C>0$ such that $\\int_{100}^{\\infty} f(x) dx = 1$.\n",
    "To simplify the calculation, we instead approximate this integral as a sum $\\sum_{i=100}^{2000} f(i)$, where we chose the upper limit large enough to only cause negigable inaccuracies.\n",
    "The index values these sum runs over are given via the list `Ds` in our code.\n",
    "\n",
    "In order to find the parameters of a truncated powerlaw distribution that best describes a data set, we consider a range of $\\alpha$ and $\\gamma$ values.\n",
    "For any fixed combination of $\\alpha$ and $\\gamma$, first, $C$ is computed and then\n",
    "the approximated CCDF $F(x) = \\sum_{d \\in Ds, d \\geq x} f(d)$ is calculated.\n",
    "\n",
    "As in the previous section, an error function is applied to assess the quality of each such CCDF and the best-fitting parameter combination is stored."
   ]
  },
  {
   "cell_type": "code",
   "execution_count": 7,
   "metadata": {},
   "outputs": [],
   "source": [
    "'''\n",
    "Density function of the truncated power-law distribution\n",
    "'''\n",
    "def funcD(C,d,alpha,gamma):\n",
    "    fD=C/d**alpha*(math.exp(-d/gamma))\n",
    "    return fD\n",
    "\n",
    "# This function is used as a helper function when computing C\n",
    "def funcD_noC(d,alpha,gamma):\n",
    "    fD_noC=1/d**alpha*(math.exp(-d/gamma))\n",
    "    return fD_noC"
   ]
  },
  {
   "cell_type": "code",
   "execution_count": 8,
   "metadata": {},
   "outputs": [],
   "source": [
    "'''\n",
    "Finding optimal combination of parameters for power-law with exponential truncation\n",
    "\n",
    "alphas, gammas, Ds: Sets of candidate parameter values used to identify the optimal exponentially truncated power-law.\n",
    "data: the empirical dataset\n",
    "max_d: the empirical trip length at which the CCDF reaches 10^{-3} on a log-log scale plot; this value defines the maximum range used for error calculation\n",
    "num: the number of sampling points used in the error calculation\n",
    "\n",
    "Return: optimal parameters for the exponentially truncated power-law, including alpha, gamma, C, and the corresponding error value.\n",
    "'''\n",
    "def get_results_PL_exp(alphas,gammas,Ds,data,max_d,num):\n",
    "    results=[] # results contain alpha, gamma,C, error between the truncated power-law and emiprical data\n",
    "\n",
    "    # for each combination of alpha and gamma\n",
    "    for alpha in alphas:\n",
    "        for gamma in gammas:\n",
    "            # first compute the normalization constant C\n",
    "            temp=0\n",
    "            for d in Ds:\n",
    "                temp+=funcD_noC(d,alpha,gamma)\n",
    "            C=1/temp\n",
    "    \n",
    "            #compute the (approximate) CCDF F(d) of a truncated power-law\n",
    "            #at several sample points given by Ds\n",
    "            Fd=[0]*len(Ds)\n",
    "            for idx,d in enumerate(Ds):\n",
    "                for i in Ds[Ds>=d]:\n",
    "                    Fd[idx]+=funcD(C,i,alpha,gamma)\n",
    "            \n",
    "            empircal_data=data.tolist()\n",
    "            error=cal_sMAPE_exp(Fd,empircal_data,Ds,max_d,num)         \n",
    "            # error=ccdf_sampling_error(df_vec,Ds,Fd)\n",
    "            results.append([alpha,gamma,C,error])\n",
    "\n",
    "    #convert results to dataframe\n",
    "    results_truncated=pd.DataFrame(results, columns =['alpha', 'gamma', 'C','error']) \n",
    "    # save the optimal results\n",
    "    opt_truncated=results_truncated.iloc[results_truncated.error.argmin(),:]\n",
    "\n",
    "    return opt_truncated"
   ]
  }
 ],
 "metadata": {
  "colab": {
   "provenance": []
  },
  "kernelspec": {
   "display_name": "Python 3 (ipykernel)",
   "language": "python",
   "name": "python3"
  },
  "language_info": {
   "codemirror_mode": {
    "name": "ipython",
    "version": 3
   },
   "file_extension": ".py",
   "mimetype": "text/x-python",
   "name": "python",
   "nbconvert_exporter": "python",
   "pygments_lexer": "ipython3",
   "version": "3.11.3"
  }
 },
 "nbformat": 4,
 "nbformat_minor": 4
}
